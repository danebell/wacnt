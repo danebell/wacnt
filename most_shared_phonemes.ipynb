{
 "cells": [
  {
   "cell_type": "markdown",
   "metadata": {},
   "source": [
    "# Wolfram|Alpha can't, so here's how\n",
    "\n",
    "From [Wolfram|Alpha Can't](https://twitter.com/wacnt/status/737795874596622336):\n",
    ">largest number of phonemes shared by a pair of English words that share no letters\n",
    "\n",
    "Of course, this is a perfect [nerdsnipe](https://xkcd.com/356/) for me. English orthography is famously decoupled from its phonology for a number of historical reasons, principally that (1) the orthography was standardized just prior to major sound changes and (2) when English borrows, it tends to keep the spelling from the source language (which often has different sound-letter correspondences)."
   ]
  },
  {
   "cell_type": "code",
   "execution_count": 1,
   "metadata": {
    "collapsed": true
   },
   "outputs": [],
   "source": [
    "from __future__ import print_function\n",
    "import sys\n",
    "from itertools import combinations"
   ]
  },
  {
   "cell_type": "code",
   "execution_count": 4,
   "metadata": {
    "collapsed": true
   },
   "outputs": [],
   "source": [
    "# How many phonemes do a and b share?\n",
    "# NB: this is not a set intersection, so multiples of the same phoneme count)\n",
    "def shared_phonemes(a, b):\n",
    "    x = list(a)\n",
    "    y = list(b)\n",
    "    count = 0\n",
    "    for s in x:\n",
    "        if s in y:\n",
    "            count += 1\n",
    "            y.remove(s)\n",
    "    return count"
   ]
  },
  {
   "cell_type": "code",
   "execution_count": 3,
   "metadata": {
    "collapsed": true
   },
   "outputs": [],
   "source": [
    "# Load the CMU Pronouncing Dictionary into a dict with form (letters -> phonemes)\n",
    "# CPD has its own notation for phonemes, but they map onto IPA.\n",
    "# CPD also has stress and POS, but we only care about phonemes right now.\n",
    "# NB: only one pronunciation per spelling!\n",
    "newdic = dict()\n",
    "\n",
    "with open('newdic.txt') as f:\n",
    "    for line in f:\n",
    "        spl = line.split('\\t')\n",
    "        newdic[spl[3]] = spl[0]"
   ]
  },
  {
   "cell_type": "code",
   "execution_count": 5,
   "metadata": {
    "collapsed": false
   },
   "outputs": [
    {
     "name": "stdout",
     "output_type": "stream",
     "text": [
      "190 million comparisons..."
     ]
    }
   ],
   "source": [
    "sofar = 0\n",
    "curr_num = 0\n",
    "curr_pairs = []\n",
    "\n",
    "# Compare each pair of words (without repeats)\n",
    "for (key1,key2) in combinations(newdic.keys(), 2):\n",
    "    # We're only interested in pairs with no letters in common\n",
    "    if not bool(set(key1).intersection(set(key2))):\n",
    "        # How many phonemes in common?\n",
    "        so = shared_phonemes(newdic[key1], newdic[key2])\n",
    "        # New record!\n",
    "        if so > curr_num:\n",
    "            curr_num = so\n",
    "            curr_pairs = [(key1, key2)]\n",
    "        # Ties for first place\n",
    "        elif so == curr_num:\n",
    "            curr_pairs.append((key1, key2))\n",
    "    # Keep track of progress (190-some million comparisons total)\n",
    "    sofar += 1\n",
    "    if sofar % 1000000 == 0:\n",
    "        sys.stdout.write(\"\\r{} million comparisons...\".format(sofar / 1000000))\n",
    "        sys.stdout.flush()"
   ]
  },
  {
   "cell_type": "code",
   "execution_count": 8,
   "metadata": {
    "collapsed": false
   },
   "outputs": [
    {
     "name": "stdout",
     "output_type": "stream",
     "text": [
      "5 phonemes shared by:\n",
      "\n",
      "askew /xskyu/ <=> circumlocution /sRkxmlokyuS|n/\n",
      "heterodox /hEtxrxdaks/ <=> casaba /kxsabx/\n",
      "commissary /kamxsEri/ <=> exegete /EksxJit/\n",
      "inflexibility /InflEksxbIl|ti/ <=> sarcophagus /sarkafxg|s/\n",
      "polyphony /pxlIfxni/ <=> cafeteria /k@fxtIrix/\n",
      "philosophic /fIl|safIk/ <=> extravagant /Ikstr@vIg|nt/\n",
      "extravagant /Ikstr@vIg|nt/ <=> umbilicus /^mbIlIk|s/\n",
      "marzipan /martsxpan/ <=> ocelot /asxlat/\n",
      "beneficence /bxnEfxs|ns/ <=> asparagus /xsp@rxg|s/\n",
      "sycophant /sIkxfxnt/ <=> fixed /fIkst/\n",
      "sarcophagus /sarkafxg|s/ <=> flexibility /flEksxbIl|ti/\n",
      "quadrivium /kwadrIvixm/ <=> ecology /IkalxJi/\n"
     ]
    }
   ],
   "source": [
    "print(\"{} phonemes shared by:\\n\".format(curr_num))\n",
    "for (a, b) in curr_pairs:\n",
    "    print(\"{} /{}/ <=> {} /{}/\".format(a, newdic[a], b, newdic[b]))"
   ]
  }
 ],
 "metadata": {
  "kernelspec": {
   "display_name": "Python 2",
   "language": "python",
   "name": "python2"
  },
  "language_info": {
   "codemirror_mode": {
    "name": "ipython",
    "version": 2
   },
   "file_extension": ".py",
   "mimetype": "text/x-python",
   "name": "python",
   "nbconvert_exporter": "python",
   "pygments_lexer": "ipython2",
   "version": "2.7.9"
  }
 },
 "nbformat": 4,
 "nbformat_minor": 0
}
